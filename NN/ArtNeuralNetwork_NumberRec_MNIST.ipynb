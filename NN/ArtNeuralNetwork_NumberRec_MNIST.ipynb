{
 "cells": [
  {
   "cell_type": "code",
   "execution_count": 58,
   "metadata": {},
   "outputs": [],
   "source": [
    "import numpy as np \n",
    "import pandas as pd\n",
    "import matplotlib.pyplot as plt"
   ]
  },
  {
   "cell_type": "code",
   "execution_count": 68,
   "metadata": {},
   "outputs": [
    {
     "name": "stdout",
     "output_type": "stream",
     "text": [
      "X_TEST (784, 60000)\n",
      "Y_TEST(60000,)\n"
     ]
    }
   ],
   "source": [
    "data_test = pd.read_csv('mnist_test.csv')\n",
    "data_test = np.array(data_test)\n",
    "\n",
    "data = pd.read_csv('mnist_train.csv')\n",
    "data = np.array(data)\n",
    "\n",
    "m, n = data.shape\n",
    "mm, nn = data_test.shape\n",
    "np.random.shuffle(data) # zamýchat data \n",
    "\n",
    "data_test =data_test.T\n",
    "data_train = data.T\n",
    "data_V = data_train\n",
    "\n",
    "Y_train = data_train[0]\n",
    "X_train = data_train[1:n]\n",
    "X_train = X_train / 255.\n",
    "\n",
    "Y_test = data_test[0]\n",
    "X_test = data_test[1:n]\n",
    "X_test = X_test / 255.\n",
    "\n",
    "\n",
    "print('X_TEST ' +str(X_train.shape))\n",
    "print('Y_TEST'+str(Y_train.shape))"
   ]
  },
  {
   "cell_type": "code",
   "execution_count": 60,
   "metadata": {},
   "outputs": [],
   "source": [
    "def init_params():\n",
    "    W1 = np.random.rand(10, 784) - 0.5\n",
    "    b1 = np.random.rand(10, 1) - 0.5\n",
    "    W2 = np.random.rand(10, 10) - 0.5\n",
    "    b2 = np.random.rand(10, 1) - 0.5\n",
    "    return W1, b1, W2, b2\n",
    "\n",
    "def ReLU(Z):\n",
    "    return np.maximum(Z, 0)\n",
    "\n",
    "def softmax(Z):\n",
    "    A = np.exp(Z) / sum(np.exp(Z))\n",
    "    return A"
   ]
  },
  {
   "cell_type": "code",
   "execution_count": 73,
   "metadata": {},
   "outputs": [],
   "source": [
    "def forward_prop(W1, b1, W2, b2, X):\n",
    "    Z1 = W1.dot(X) + b1\n",
    "    A1 = ReLU(Z1)\n",
    "    Z2 = W2.dot(A1) + b2\n",
    "    A2 = softmax(Z2)\n",
    "    return Z1, A1, Z2, A2\n",
    "\n",
    "def ReLU_deriv(Z):\n",
    "    return Z > 0\n",
    "\n",
    "def one_hot(Y):\n",
    "    one_hot_Y = np.zeros((Y.size, Y.max() + 1))\n",
    "    one_hot_Y[np.arange(Y.size), Y] = 1\n",
    "    one_hot_Y = one_hot_Y.T\n",
    "    return one_hot_Y\n",
    "\n",
    "def backward_prop(Z1, A1, Z2, A2, W1, W2, X, Y):\n",
    "    one_hot_Y = one_hot(Y)\n",
    "    dZ2 = A2 - one_hot_Y\n",
    "    dW2 = 1 / m * dZ2.dot(A1.T)\n",
    "    db2 = 1 / m * np.sum(dZ2)\n",
    "    dZ1 = W2.T.dot(dZ2) * ReLU_deriv(Z1)\n",
    "    dW1 = 1 / m * dZ1.dot(X.T)\n",
    "    db1 = 1 / m * np.sum(dZ1)\n",
    "    return dW1, db1, dW2, db2\n",
    "\n",
    "def update_params(W1, b1, W2, b2, dW1, db1, dW2, db2, alpha):\n",
    "    W1 = W1 - alpha * dW1\n",
    "    b1 = b1 - alpha * db1    \n",
    "    W2 = W2 - alpha * dW2  \n",
    "    b2 = b2 - alpha * db2    \n",
    "    return W1, b1, W2, b2\n",
    "\n",
    "def get_predictions(A2):\n",
    "    print(A2)\n",
    "    return np.argmax(A2, 0)\n",
    "\n",
    "def get_accuracy(predictions, Y):\n",
    "    print(predictions, Y)\n",
    "    return np.sum(predictions == Y) / Y.size\n",
    "\n",
    "def gradient_descent(X, Y, alpha, iterations):\n",
    "    W1, b1, W2, b2 = init_params()\n",
    "    for i in range(iterations):\n",
    "        Z1, A1, Z2, A2 = forward_prop(W1, b1, W2, b2, X)\n",
    "        dW1, db1, dW2, db2 = backward_prop(Z1, A1, Z2, A2, W1, W2, X, Y)\n",
    "        W1, b1, W2, b2 = update_params(W1, b1, W2, b2, dW1, db1, dW2, db2, alpha)\n",
    "        if i % 10 == 0:\n",
    "            print(\"Iteration: \", i)\n",
    "            predictions = get_predictions(A2)\n",
    "            print(get_accuracy(predictions, Y))\n",
    "    return W1, b1, W2, b2"
   ]
  },
  {
   "cell_type": "code",
   "execution_count": 62,
   "metadata": {},
   "outputs": [
    {
     "name": "stdout",
     "output_type": "stream",
     "text": [
      "Iteration:  0\n",
      "[9 6 3 ... 4 9 3] [0 7 2 ... 8 9 7]\n",
      "0.0989\n",
      "Iteration:  10\n",
      "[0 6 3 ... 3 3 3] [0 7 2 ... 8 9 7]\n",
      "0.1322\n",
      "Iteration:  20\n",
      "[0 6 3 ... 3 3 3] [0 7 2 ... 8 9 7]\n",
      "0.16573333333333334\n",
      "Iteration:  30\n",
      "[0 6 3 ... 3 3 3] [0 7 2 ... 8 9 7]\n",
      "0.21031666666666668\n",
      "Iteration:  40\n",
      "[0 6 3 ... 3 3 7] [0 7 2 ... 8 9 7]\n",
      "0.27066666666666667\n",
      "Iteration:  50\n",
      "[0 6 3 ... 3 3 7] [0 7 2 ... 8 9 7]\n",
      "0.3257833333333333\n",
      "Iteration:  60\n",
      "[0 7 3 ... 3 3 7] [0 7 2 ... 8 9 7]\n",
      "0.3710333333333333\n",
      "Iteration:  70\n",
      "[0 7 3 ... 2 3 7] [0 7 2 ... 8 9 7]\n",
      "0.4083833333333333\n",
      "Iteration:  80\n",
      "[0 7 3 ... 2 3 7] [0 7 2 ... 8 9 7]\n",
      "0.4452\n",
      "Iteration:  90\n",
      "[0 7 3 ... 2 3 7] [0 7 2 ... 8 9 7]\n",
      "0.48025\n",
      "Iteration:  100\n",
      "[0 7 3 ... 2 3 7] [0 7 2 ... 8 9 7]\n",
      "0.5120833333333333\n",
      "Iteration:  110\n",
      "[0 7 3 ... 2 3 7] [0 7 2 ... 8 9 7]\n",
      "0.5399\n",
      "Iteration:  120\n",
      "[0 7 3 ... 2 9 7] [0 7 2 ... 8 9 7]\n",
      "0.5648333333333333\n",
      "Iteration:  130\n",
      "[0 7 3 ... 2 9 7] [0 7 2 ... 8 9 7]\n",
      "0.58805\n",
      "Iteration:  140\n",
      "[0 7 3 ... 2 9 7] [0 7 2 ... 8 9 7]\n",
      "0.6074666666666667\n",
      "Iteration:  150\n",
      "[0 7 3 ... 2 9 7] [0 7 2 ... 8 9 7]\n",
      "0.6252\n",
      "Iteration:  160\n",
      "[0 7 3 ... 2 9 7] [0 7 2 ... 8 9 7]\n",
      "0.6404833333333333\n",
      "Iteration:  170\n",
      "[0 7 3 ... 2 9 7] [0 7 2 ... 8 9 7]\n",
      "0.6548166666666667\n",
      "Iteration:  180\n",
      "[0 7 3 ... 2 9 7] [0 7 2 ... 8 9 7]\n",
      "0.6681\n",
      "Iteration:  190\n",
      "[0 7 3 ... 2 9 7] [0 7 2 ... 8 9 7]\n",
      "0.6796\n",
      "Iteration:  200\n",
      "[0 7 5 ... 2 9 7] [0 7 2 ... 8 9 7]\n",
      "0.6903666666666667\n",
      "Iteration:  210\n",
      "[0 7 5 ... 2 9 7] [0 7 2 ... 8 9 7]\n",
      "0.7008333333333333\n",
      "Iteration:  220\n",
      "[0 7 5 ... 2 9 7] [0 7 2 ... 8 9 7]\n",
      "0.7098\n",
      "Iteration:  230\n",
      "[0 7 5 ... 2 9 7] [0 7 2 ... 8 9 7]\n",
      "0.7181\n",
      "Iteration:  240\n",
      "[0 7 5 ... 8 9 7] [0 7 2 ... 8 9 7]\n",
      "0.7263166666666667\n"
     ]
    }
   ],
   "source": [
    "W1, b1, W2, b2 = gradient_descent(X_train, Y_train, 0.10, 250)"
   ]
  },
  {
   "cell_type": "code",
   "execution_count": 63,
   "metadata": {},
   "outputs": [],
   "source": [
    "def make_predictions(X, W1, b1, W2, b2):\n",
    "    _, _, _, A2 = forward_prop(W1, b1, W2, b2, X)\n",
    "    predictions = get_predictions(A2)\n",
    "    return predictions\n",
    "\n",
    "def test_prediction(index, W1, b1, W2, b2):\n",
    "    current_image = X_test[:, index, None]\n",
    "    prediction = make_predictions(X_test[:, index, None], W1, b1, W2, b2)\n",
    "    label = Y_test[index]\n",
    "    print(\"Prediction: \", prediction)\n",
    "    print(\"Label: \", label)\n",
    "    \n",
    "    current_image = current_image.reshape((28, 28)) * 255\n",
    "    plt.gray()\n",
    "    plt.imshow(current_image, interpolation='nearest')\n",
    "    plt.show()"
   ]
  },
  {
   "cell_type": "code",
   "execution_count": 74,
   "metadata": {},
   "outputs": [
    {
     "name": "stdout",
     "output_type": "stream",
     "text": [
      "[[8.97525651e-01]\n",
      " [5.67054291e-08]\n",
      " [1.36752758e-03]\n",
      " [1.12991078e-03]\n",
      " [8.00004472e-04]\n",
      " [9.19816452e-02]\n",
      " [1.79730753e-04]\n",
      " [5.74318838e-06]\n",
      " [4.47070340e-03]\n",
      " [2.53902647e-03]]\n",
      "Prediction:  [0]\n",
      "Label:  0\n"
     ]
    },
    {
     "data": {
      "image/png": "[encoded data removed]",
      "text/plain": [
       "<Figure size 640x480 with 1 Axes>"
      ]
     },
     "metadata": {},
     "output_type": "display_data"
    }
   ],
   "source": [
    "\n",
    "\n",
    "test_prediction(656, W1, b1, W2, b2)\n",
    "\n"
   ]
  },
  {
   "cell_type": "code",
   "execution_count": null,
   "metadata": {},
   "outputs": [
    {
     "name": "stdout",
     "output_type": "stream",
     "text": [
      "9\n",
      "9\n"
     ]
    },
    {
     "data": {
      "image/png": "[encoded data removed]",
      "text/plain": [
       "<Figure size 640x480 with 1 Axes>"
      ]
     },
     "metadata": {},
     "output_type": "display_data"
    }
   ],
   "source": [
    "\n",
    "n= 456\n",
    "im = X_train[:,n,None]\n",
    "V = im.reshape((28, 28)) * 255\n",
    "V.shape\n",
    "\n",
    "one_hot_Y=(Y_train[n])\n",
    "print(one_hot_Y)\n",
    "print(Y_train[n])\n",
    "plt.gray()\n",
    "plt.imshow(V, interpolation='nearest')\n",
    "plt.show()"
   ]
  },
  {
   "cell_type": "code",
   "execution_count": null,
   "metadata": {},
   "outputs": [
    {
     "name": "stdout",
     "output_type": "stream",
     "text": [
      "[[1.]]\n"
     ]
    },
    {
     "data": {
      "image/png": "[encoded data removed]",
      "text/plain": [
       "<Figure size 640x480 with 1 Axes>"
      ]
     },
     "metadata": {},
     "output_type": "display_data"
    }
   ],
   "source": [
    "\n",
    "n= 584\n",
    "im = X_train[:,n,None]\n",
    "V = im.reshape((28, 28)) * 255\n",
    "V.shape\n",
    "\n",
    "one_hot_Y = one_hot(Y_train[n])\n",
    "print(one_hot_Y)\n",
    "plt.gray()\n",
    "plt.imshow(V, interpolation='nearest')\n",
    "plt.show()\n"
   ]
  }
 ],
 "metadata": {
  "kernelspec": {
   "display_name": "Python 3.10.7 64-bit",
   "language": "python",
   "name": "python3"
  },
  "language_info": {
   "codemirror_mode": {
    "name": "ipython",
    "version": 3
   },
   "file_extension": ".py",
   "mimetype": "text/x-python",
   "name": "python",
   "nbconvert_exporter": "python",
   "pygments_lexer": "ipython3",
   "version": "3.10.7"
  },
  "orig_nbformat": 4,
  "vscode": {
   "interpreter": {
    "hash": "2469a70536e4d2335a2ea8907942d0699c37342a371ac185bdb5b0aa6f073890"
   }
  }
 },
 "nbformat": 4,
 "nbformat_minor": 2
}
